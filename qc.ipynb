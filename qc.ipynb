{
 "cells": [
  {
   "cell_type": "code",
   "id": "initial_id",
   "metadata": {
    "collapsed": true,
    "ExecuteTime": {
     "end_time": "2025-02-18T18:11:13.734665Z",
     "start_time": "2025-02-18T18:11:09.738120Z"
    }
   },
   "source": [
    "import pandas as pd\n",
    "import matplotlib.pyplot as plt\n",
    "import seaborn as sns"
   ],
   "outputs": [],
   "execution_count": 10
  },
  {
   "metadata": {
    "ExecuteTime": {
     "end_time": "2025-02-18T18:11:13.798481Z",
     "start_time": "2025-02-18T18:11:13.740438Z"
    }
   },
   "cell_type": "code",
   "source": "df = pd.read_csv(\"processed-data/processed_2024_qc.csv\")",
   "id": "f75c2e4198330482",
   "outputs": [],
   "execution_count": 11
  },
  {
   "metadata": {
    "ExecuteTime": {
     "end_time": "2025-02-18T18:17:29.329994Z",
     "start_time": "2025-02-18T18:17:29.267033Z"
    }
   },
   "cell_type": "code",
   "source": [
    "df_qc = df.loc[:, [\"date\", \"time\"] + df.columns[df.columns.str.startswith(\"qcscore\")].tolist()]\n",
    "df_qc.head()"
   ],
   "id": "81b5ada378ef6db",
   "outputs": [
    {
     "data": {
      "text/plain": [
       "         date      time qcscore qcscore_maxt qcscore_mint qcscore_rh  \\\n",
       "0  2024/01/01  00:00:00       G            G            G          G   \n",
       "1  2024/01/01  01:00:00       G            G            G          G   \n",
       "2  2024/01/01  02:00:00       G            G            G          G   \n",
       "3  2024/01/01  03:00:00       G            G            G          G   \n",
       "4  2024/01/01  04:00:00       G            G            G          G   \n",
       "\n",
       "  qcscore_ws qcscore_wd qcscore_60rf qcscore_sol  \n",
       "0          G          G            G           G  \n",
       "1          G          G            G           G  \n",
       "2          G          G            G           G  \n",
       "3          G          G            G           G  \n",
       "4          G          G            G           G  "
      ],
      "text/html": [
       "<div>\n",
       "<style scoped>\n",
       "    .dataframe tbody tr th:only-of-type {\n",
       "        vertical-align: middle;\n",
       "    }\n",
       "\n",
       "    .dataframe tbody tr th {\n",
       "        vertical-align: top;\n",
       "    }\n",
       "\n",
       "    .dataframe thead th {\n",
       "        text-align: right;\n",
       "    }\n",
       "</style>\n",
       "<table border=\"1\" class=\"dataframe\">\n",
       "  <thead>\n",
       "    <tr style=\"text-align: right;\">\n",
       "      <th></th>\n",
       "      <th>date</th>\n",
       "      <th>time</th>\n",
       "      <th>qcscore</th>\n",
       "      <th>qcscore_maxt</th>\n",
       "      <th>qcscore_mint</th>\n",
       "      <th>qcscore_rh</th>\n",
       "      <th>qcscore_ws</th>\n",
       "      <th>qcscore_wd</th>\n",
       "      <th>qcscore_60rf</th>\n",
       "      <th>qcscore_sol</th>\n",
       "    </tr>\n",
       "  </thead>\n",
       "  <tbody>\n",
       "    <tr>\n",
       "      <th>0</th>\n",
       "      <td>2024/01/01</td>\n",
       "      <td>00:00:00</td>\n",
       "      <td>G</td>\n",
       "      <td>G</td>\n",
       "      <td>G</td>\n",
       "      <td>G</td>\n",
       "      <td>G</td>\n",
       "      <td>G</td>\n",
       "      <td>G</td>\n",
       "      <td>G</td>\n",
       "    </tr>\n",
       "    <tr>\n",
       "      <th>1</th>\n",
       "      <td>2024/01/01</td>\n",
       "      <td>01:00:00</td>\n",
       "      <td>G</td>\n",
       "      <td>G</td>\n",
       "      <td>G</td>\n",
       "      <td>G</td>\n",
       "      <td>G</td>\n",
       "      <td>G</td>\n",
       "      <td>G</td>\n",
       "      <td>G</td>\n",
       "    </tr>\n",
       "    <tr>\n",
       "      <th>2</th>\n",
       "      <td>2024/01/01</td>\n",
       "      <td>02:00:00</td>\n",
       "      <td>G</td>\n",
       "      <td>G</td>\n",
       "      <td>G</td>\n",
       "      <td>G</td>\n",
       "      <td>G</td>\n",
       "      <td>G</td>\n",
       "      <td>G</td>\n",
       "      <td>G</td>\n",
       "    </tr>\n",
       "    <tr>\n",
       "      <th>3</th>\n",
       "      <td>2024/01/01</td>\n",
       "      <td>03:00:00</td>\n",
       "      <td>G</td>\n",
       "      <td>G</td>\n",
       "      <td>G</td>\n",
       "      <td>G</td>\n",
       "      <td>G</td>\n",
       "      <td>G</td>\n",
       "      <td>G</td>\n",
       "      <td>G</td>\n",
       "    </tr>\n",
       "    <tr>\n",
       "      <th>4</th>\n",
       "      <td>2024/01/01</td>\n",
       "      <td>04:00:00</td>\n",
       "      <td>G</td>\n",
       "      <td>G</td>\n",
       "      <td>G</td>\n",
       "      <td>G</td>\n",
       "      <td>G</td>\n",
       "      <td>G</td>\n",
       "      <td>G</td>\n",
       "      <td>G</td>\n",
       "    </tr>\n",
       "  </tbody>\n",
       "</table>\n",
       "</div>"
      ]
     },
     "execution_count": 16,
     "metadata": {},
     "output_type": "execute_result"
    }
   ],
   "execution_count": 16
  },
  {
   "metadata": {
    "ExecuteTime": {
     "end_time": "2025-02-18T18:17:44.464402Z",
     "start_time": "2025-02-18T18:17:44.436477Z"
    }
   },
   "cell_type": "code",
   "source": "df_qc[\"time\"].value_counts()",
   "id": "c78b64063824b5e1",
   "outputs": [
    {
     "data": {
      "text/plain": [
       "time\n",
       "00:00:00    287\n",
       "23:00:00    286\n",
       "01:00:00    285\n",
       "02:00:00    284\n",
       "04:00:00    284\n",
       "10:00:00    284\n",
       "08:00:00    284\n",
       "03:00:00    284\n",
       "12:00:00    283\n",
       "11:00:00    283\n",
       "09:00:00    283\n",
       "05:00:00    282\n",
       "07:00:00    282\n",
       "06:00:00    282\n",
       "14:00:00    282\n",
       "13:00:00    282\n",
       "22:00:00    282\n",
       "19:00:00    282\n",
       "20:00:00    282\n",
       "18:00:00    282\n",
       "21:00:00    281\n",
       "17:00:00    280\n",
       "15:00:00    279\n",
       "16:00:00    279\n",
       "Name: count, dtype: int64"
      ]
     },
     "execution_count": 17,
     "metadata": {},
     "output_type": "execute_result"
    }
   ],
   "execution_count": 17
  },
  {
   "metadata": {
    "ExecuteTime": {
     "end_time": "2025-02-18T18:19:10.824120Z",
     "start_time": "2025-02-18T18:19:10.791204Z"
    }
   },
   "cell_type": "code",
   "source": "df_qc[\"date\"].value_counts()",
   "id": "7235b3a5c4863da5",
   "outputs": [
    {
     "data": {
      "text/plain": [
       "date\n",
       "2024/12/31    24\n",
       "2024/01/01    24\n",
       "2024/01/02    24\n",
       "2024/01/03    24\n",
       "2024/01/04    24\n",
       "              ..\n",
       "2024/10/07     1\n",
       "2024/08/11     1\n",
       "2024/08/01     1\n",
       "2024/09/02     1\n",
       "2024/02/13     1\n",
       "Name: count, Length: 297, dtype: int64"
      ]
     },
     "execution_count": 20,
     "metadata": {},
     "output_type": "execute_result"
    }
   ],
   "execution_count": 20
  },
  {
   "metadata": {},
   "cell_type": "code",
   "outputs": [],
   "execution_count": null,
   "source": "",
   "id": "ce9122d1c2ee249e"
  }
 ],
 "metadata": {
  "kernelspec": {
   "display_name": "Python 3",
   "language": "python",
   "name": "python3"
  },
  "language_info": {
   "codemirror_mode": {
    "name": "ipython",
    "version": 2
   },
   "file_extension": ".py",
   "mimetype": "text/x-python",
   "name": "python",
   "nbconvert_exporter": "python",
   "pygments_lexer": "ipython2",
   "version": "2.7.6"
  }
 },
 "nbformat": 4,
 "nbformat_minor": 5
}
